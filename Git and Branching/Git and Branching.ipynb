{
 "cells": [
  {
   "cell_type": "markdown",
   "metadata": {},
   "source": [
    "# How to use Git"
   ]
  },
  {
   "cell_type": "markdown",
   "metadata": {},
   "source": [
    "Git is used for different people to work with live data and collaborating in teams. \n",
    "\n",
    "1. Create a repo in Github\n",
    "2. Select the repo, select the button to clone it, select https and copy the link\n",
    "3. In the terminal prompt, write \"cd\" + folder in our machine to store the repository\n",
    "4. Then, write \"ls\" to see the files in the current folder\n",
    "5. Then, write \"git clone\" + paste the link copied above\n",
    "\n",
    "If we go now to the folder we see a .git folder. In this main folder where we have the .git folder and we can paste our files to include in the GitHub repo.\n",
    "\n",
    "To check again:\n",
    "1. Write \"cd\" + folder path\n",
    "2. Write \"ls\".\n",
    "3. Write \"git status\" to see the status of the files in Github (if they are already uploaded/pushed to Github or not)\n",
    "4. Write \"git add\" + name of file we want to add in Github repo. To do this for all files just write \"git add .\"\n",
    "5. Write \"git status\" to check again the status of the files in Github repo and if they are already added there\n",
    "6. Write \"git commit -m\" + name of update between \" \" to commit the changes in Github\n",
    "7. Write \"clear\" to clear the console\n",
    "8. Write \"git pull\" to pull the most updated files version from Github repo\n",
    "\n",
    "If we go back to Github web and refresh the website we see that the files were uploaded.\n",
    "\n",
    "So we can clone a repo inside any folder in our machine using \"git clone\" inside the folder we want.\n",
    "\n",
    "If we change and save the file and write \"git status\" it will say \"not a git repo\" because we always have to be in the folder directory that contains the .git folder."
   ]
  },
  {
   "cell_type": "markdown",
   "metadata": {},
   "source": [
    "## Branching"
   ]
  },
  {
   "cell_type": "markdown",
   "metadata": {},
   "source": [
    "After doing \"git pull\" inside the repo folder in our machine, we can do \"git branch\" to see the branches available for our repository.\n",
    "\n",
    "1. Write \"git branch\" inside the repo folder to see current branches (the with the * is the one we're currently working on)\n",
    "2. Write \"git branch\" + name of branch to create a new branch inside the repo folder\n",
    "3. Write \"git checkout\" + name of branch inside the repo folder, to swith branches and work on other branch \n",
    "4. Write \"git merge master\" to merge the auxiliar branch with the master branch.\n",
    "\n",
    "\n",
    "We can now go to Github in web and click \"compare and pull request\" to ask a colleague to review the changes made in the auxiliary branch (this is how we make a pull request in Github).\n",
    "\n",
    "Our colleagues goes to Github, review the changes and if he approves, someone should merge the pull request and we can delete the auxiliar branch, if needed.\n",
    "\n",
    "We also have \"git push origin conflict\" command in case of need."
   ]
  }
 ],
 "metadata": {
  "language_info": {
   "name": "python"
  }
 },
 "nbformat": 4,
 "nbformat_minor": 2
}
